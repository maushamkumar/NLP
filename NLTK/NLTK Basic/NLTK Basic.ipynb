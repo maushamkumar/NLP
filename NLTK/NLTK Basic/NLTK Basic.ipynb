{
 "cells": [
  {
   "cell_type": "markdown",
   "id": "17eb5acc",
   "metadata": {},
   "source": [
    "#### Installing NLTK and Downloading Corpora"
   ]
  },
  {
   "cell_type": "code",
   "execution_count": 2,
   "id": "3a7fdf96",
   "metadata": {},
   "outputs": [
    {
     "name": "stderr",
     "output_type": "stream",
     "text": [
      "[nltk_data] Downloading package punkt to\n",
      "[nltk_data]     /Users/sanjaymahto/nltk_data...\n",
      "[nltk_data]   Package punkt is already up-to-date!\n"
     ]
    },
    {
     "data": {
      "text/plain": [
       "True"
      ]
     },
     "execution_count": 2,
     "metadata": {},
     "output_type": "execute_result"
    }
   ],
   "source": [
    "import nltk\n",
    "nltk.download('punkt')\n"
   ]
  },
  {
   "cell_type": "markdown",
   "id": "ec1ddeca",
   "metadata": {},
   "source": [
    "#### Tokenization: Breaking Text into Words and Sentences\n",
    "- Sentence tokenization cuts the text into sentences, like slicing bread.\n",
    "\n",
    "- Word tokenization cuts each sentence into words, like dicing vegetables."
   ]
  },
  {
   "cell_type": "code",
   "execution_count": 3,
   "id": "da51a1b5",
   "metadata": {},
   "outputs": [
    {
     "data": {
      "text/plain": [
       "['I', 'am', 'learning', 'Natural', 'Language', 'Processing', '!']"
      ]
     },
     "execution_count": 3,
     "metadata": {},
     "output_type": "execute_result"
    }
   ],
   "source": [
    "from nltk.tokenize import word_tokenize\n",
    "text = \"I am learning Natural Language Processing!\"\n",
    "word_tokenize(text)\n"
   ]
  },
  {
   "cell_type": "markdown",
   "id": "19b9bd85",
   "metadata": {},
   "source": [
    "#### Stopwords Removal\n",
    "Analogy: Think of stopwords as background noise in a conversation: “the,” “is,” “in.” They’re useful in grammar but don’t usually add deep meaning \n",
    "\n",
    "in analysis. Removing them is like tuning out small talk to focus on the key ideas."
   ]
  },
  {
   "cell_type": "code",
   "execution_count": 4,
   "id": "8f81b10e",
   "metadata": {},
   "outputs": [],
   "source": [
    "from nltk.corpus import stopwords\n",
    "stop_words = set(stopwords.words('english'))\n",
    "filtered_words = [w for w in word_tokenize(text) if w.lower() not in stop_words]\n"
   ]
  },
  {
   "cell_type": "markdown",
   "id": "007f9ce3",
   "metadata": {},
   "source": [
    "#### Stemming and Lemmatization\n",
    "- Analogy: If words were clothes, stemming is like chopping off sleeves to make everything short-sleeved (aggressive but quick), while lemmatization is like ironing and folding each shirt carefully (precise and context-aware).\n",
    "\n",
    "- Stemming: running, runs, ran → run (by brute force)\n",
    "\n",
    "- Lemmatization: Uses grammar and vocabulary rules to return the base or dictionary form of a word."
   ]
  },
  {
   "cell_type": "code",
   "execution_count": 7,
   "id": "77242767",
   "metadata": {},
   "outputs": [
    {
     "data": {
      "text/plain": [
       "'run'"
      ]
     },
     "execution_count": 7,
     "metadata": {},
     "output_type": "execute_result"
    }
   ],
   "source": [
    "from nltk.stem import PorterStemmer\n",
    "stemmer = PorterStemmer()\n",
    "stemmer.stem('running')  # returns 'run'\n",
    "\n"
   ]
  },
  {
   "cell_type": "code",
   "execution_count": 6,
   "id": "f134ed60",
   "metadata": {},
   "outputs": [
    {
     "data": {
      "text/plain": [
       "'run'"
      ]
     },
     "execution_count": 6,
     "metadata": {},
     "output_type": "execute_result"
    }
   ],
   "source": [
    "from nltk.stem import WordNetLemmatizer\n",
    "lemmatizer = WordNetLemmatizer()\n",
    "lemmatizer.lemmatize('running', pos='v')  # returns 'run'"
   ]
  },
  {
   "cell_type": "markdown",
   "id": "627601d2",
   "metadata": {},
   "source": [
    "#### Mini Project Idea: Text Cleaner\n"
   ]
  },
  {
   "cell_type": "code",
   "execution_count": 8,
   "id": "069c4c3f",
   "metadata": {},
   "outputs": [
    {
     "name": "stderr",
     "output_type": "stream",
     "text": [
      "[nltk_data] Downloading package punkt to\n",
      "[nltk_data]     /Users/sanjaymahto/nltk_data...\n",
      "[nltk_data]   Package punkt is already up-to-date!\n",
      "[nltk_data] Downloading package stopwords to\n",
      "[nltk_data]     /Users/sanjaymahto/nltk_data...\n",
      "[nltk_data]   Package stopwords is already up-to-date!\n",
      "[nltk_data] Downloading package wordnet to\n",
      "[nltk_data]     /Users/sanjaymahto/nltk_data...\n",
      "[nltk_data]   Package wordnet is already up-to-date!\n"
     ]
    },
    {
     "data": {
      "text/plain": [
       "['strip', 'bat', 'hang', 'feet', 'best']"
      ]
     },
     "execution_count": 8,
     "metadata": {},
     "output_type": "execute_result"
    }
   ],
   "source": [
    "import string\n",
    "from nltk.corpus import stopwords\n",
    "from nltk.tokenize import word_tokenize\n",
    "from nltk.stem import WordNetLemmatizer\n",
    "import nltk\n",
    "\n",
    "# Setup\n",
    "nltk.download('punkt')\n",
    "nltk.download('stopwords')\n",
    "nltk.download('wordnet')\n",
    "\n",
    "def clean_text(text):\n",
    "    # Lowercase\n",
    "    text = text.lower()\n",
    "    \n",
    "    # Remove punctuation\n",
    "    text = text.translate(str.maketrans('', '', string.punctuation))\n",
    "    \n",
    "    # Tokenize\n",
    "    words = word_tokenize(text)\n",
    "    \n",
    "    # Remove stopwords\n",
    "    stop_words = set(stopwords.words('english'))\n",
    "    words = [word for word in words if word not in stop_words]\n",
    "    \n",
    "    # Lemmatize\n",
    "    lemmatizer = WordNetLemmatizer()\n",
    "    words = [lemmatizer.lemmatize(word, pos='v') for word in words]\n",
    "    \n",
    "    return words\n",
    "\n",
    "# Test\n",
    "clean_text(\"The striped bats are hanging on their feet for best\")\n"
   ]
  },
  {
   "cell_type": "code",
   "execution_count": null,
   "id": "9ada2314",
   "metadata": {},
   "outputs": [],
   "source": []
  }
 ],
 "metadata": {
  "kernelspec": {
   "display_name": "venv",
   "language": "python",
   "name": "python3"
  },
  "language_info": {
   "codemirror_mode": {
    "name": "ipython",
    "version": 3
   },
   "file_extension": ".py",
   "mimetype": "text/x-python",
   "name": "python",
   "nbconvert_exporter": "python",
   "pygments_lexer": "ipython3",
   "version": "3.9.6"
  }
 },
 "nbformat": 4,
 "nbformat_minor": 5
}
