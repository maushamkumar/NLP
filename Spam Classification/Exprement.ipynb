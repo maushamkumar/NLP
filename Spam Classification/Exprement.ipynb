{
 "cells": [
  {
   "cell_type": "code",
   "execution_count": null,
   "id": "16a862a5",
   "metadata": {},
   "outputs": [],
   "source": [
    "!pip install pandas"
   ]
  },
  {
   "cell_type": "code",
   "execution_count": null,
   "id": "1e4ab5ff",
   "metadata": {},
   "outputs": [],
   "source": [
    "!conda create -n textsum39 python=3.8\n"
   ]
  },
  {
   "cell_type": "code",
   "execution_count": null,
   "id": "f326ea33",
   "metadata": {},
   "outputs": [],
   "source": []
  }
 ],
 "metadata": {
  "language_info": {
   "name": "python"
  }
 },
 "nbformat": 4,
 "nbformat_minor": 5
}
