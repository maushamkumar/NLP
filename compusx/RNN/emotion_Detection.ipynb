{
 "cells": [
  {
   "cell_type": "code",
   "execution_count": null,
   "id": "1e2bea88",
   "metadata": {},
   "outputs": [],
   "source": [
    "from datasets import load_dataset\n",
    "\n",
    "ds = load_dataset(\"dair-ai/emotion\", \"split\")"
   ]
  },
  {
   "cell_type": "code",
   "execution_count": null,
   "id": "667c76c5",
   "metadata": {},
   "outputs": [],
   "source": [
    "import numpy as np \n",
    "import pandas as pd "
   ]
  },
  {
   "cell_type": "code",
   "execution_count": null,
   "id": "254e4361",
   "metadata": {},
   "outputs": [],
   "source": [
    "ds"
   ]
  },
  {
   "cell_type": "code",
   "execution_count": null,
   "id": "d4b07e5a",
   "metadata": {},
   "outputs": [],
   "source": [
    "# First row from training set\n",
    "sample = ds['train'][0]\n",
    "sample\n",
    "\n",
    "# Output: {'text': '...', 'label': 0}\n"
   ]
  },
  {
   "cell_type": "code",
   "execution_count": null,
   "id": "517d1ad7",
   "metadata": {},
   "outputs": [],
   "source": [
    "# First 5 rows from validation set\n",
    "samples = ds['validation'][:5]\n",
    "print(samples['text'])     # List of 5 texts\n",
    "print(samples['label'])    # List of 5 labels\n"
   ]
  },
  {
   "cell_type": "code",
   "execution_count": null,
   "id": "64c66662",
   "metadata": {},
   "outputs": [],
   "source": [
    "import pandas as pd\n",
    "\n",
    "train = pd.DataFrame(ds['train'][:])\n",
    "train.head()\n"
   ]
  },
  {
   "cell_type": "code",
   "execution_count": null,
   "id": "4378620f",
   "metadata": {},
   "outputs": [],
   "source": [
    "test = pd.DataFrame(ds['test'][:])"
   ]
  },
  {
   "cell_type": "code",
   "execution_count": null,
   "id": "28dbfe4a",
   "metadata": {},
   "outputs": [],
   "source": [
    "validation = pd.DataFrame(ds['validation'][:])"
   ]
  },
  {
   "cell_type": "code",
   "execution_count": null,
   "id": "7cffff26",
   "metadata": {},
   "outputs": [],
   "source": [
    "from tensorflow.keras.preprocessing.text import Tokenizer\n",
    "from tensorflow.keras.preprocessing.sequence import pad_sequences\n"
   ]
  },
  {
   "cell_type": "code",
   "execution_count": null,
   "id": "2acb3b40",
   "metadata": {},
   "outputs": [],
   "source": [
    "# Fit tokenizer on the training data \n",
    "tokenizer = Tokenizer(oov_token='<OOV>')\n",
    "tokenizer.fit_on_texts(train)"
   ]
  },
  {
   "cell_type": "code",
   "execution_count": null,
   "id": "bf588560",
   "metadata": {},
   "outputs": [],
   "source": [
    "X_train = train['text']\n",
    "y_train = train['label']\n",
    "\n",
    "X_test = test['text']\n",
    "y_test = test['label']\n",
    "\n",
    "X_val = validation['text']\n",
    "y_val = validation['label']"
   ]
  },
  {
   "cell_type": "code",
   "execution_count": null,
   "id": "c426b2e5",
   "metadata": {},
   "outputs": [],
   "source": [
    "# Pad Sequences \n",
    "max_length = max(len(x) for x in X_train_seq)\n",
    "X_train = pad_sequences(X_train_seq, maxlen=max_length, padding='post')\n",
    "X_val = pad_sequences(X_val_seq, maxlen=max_length, padding='post')\n",
    "X_test = pad_sequences(X_test_seq, maxlen=max_length, padding='post')\n"
   ]
  },
  {
   "cell_type": "code",
   "execution_count": null,
   "id": "3219402c",
   "metadata": {},
   "outputs": [],
   "source": [
    "# train_labels = ['Sadness', 'anger', 'love', 'surprise', 'fear', 'joy']\n",
    "# val_labels = ['Sadness', 'anger', 'love', 'surprise', 'fear', 'joy']\n",
    "# test_labels = ['Sadness', 'anger', 'love', 'surprise', 'fear', 'joy']"
   ]
  },
  {
   "cell_type": "code",
   "execution_count": null,
   "id": "2d48ab48",
   "metadata": {},
   "outputs": [],
   "source": [
    "from sklearn.preprocessing import LabelEncoder\n",
    "\n",
    "encoder = LabelEncoder()\n",
    "y_train = encoder.fit_transform(train_labels)\n",
    "y_val = encoder.fit_transform(val_labels)\n",
    "y_test = encoder.fit_transform(test_labels)"
   ]
  },
  {
   "cell_type": "code",
   "execution_count": null,
   "id": "a5557777",
   "metadata": {},
   "outputs": [],
   "source": [
    "from tensorflow.keras.utils import to_categorical\n",
    "y_train = to_categorical(y_train)\n",
    "y_val = to_categorical(y_val)\n",
    "y_test = to_categorical(y_test)\n"
   ]
  },
  {
   "cell_type": "code",
   "execution_count": null,
   "id": "f80c5f13",
   "metadata": {},
   "outputs": [],
   "source": [
    "# from tensorflow.keras.utils import to_categorical\n",
    "# y_train = to_categorical(y_train)\n",
    "# y_val = to_categorical(y_val)\n",
    "# y_test = to_categorical(y_test)\n"
   ]
  },
  {
   "cell_type": "code",
   "execution_count": null,
   "id": "2908a277",
   "metadata": {},
   "outputs": [],
   "source": [
    "from tensorflow.keras.utils import to_categorical\n",
    "from sklearn.preprocessing import LabelEncoder\n",
    "\n",
    "\n",
    "# Text & Label\n",
    "X_train = train['text']\n",
    "y_train = train['label']\n",
    "X_val = validation['text']\n",
    "y_val = validation['label']\n",
    "X_test = test['text']\n",
    "y_test = test['label']\n",
    "\n",
    "# Tokenizer\n",
    "tokenizer = Tokenizer(oov_token='<OOV>')\n",
    "tokenizer.fit_on_texts(X_train)\n",
    "\n",
    "X_train_seq = tokenizer.texts_to_sequences(X_train)\n",
    "X_val_seq = tokenizer.texts_to_sequences(X_val)\n",
    "X_test_seq = tokenizer.texts_to_sequences(X_test)\n",
    "\n",
    "# Padding\n",
    "max_length = max(len(x) for x in X_train_seq)\n",
    "X_train = pad_sequences(X_train_seq, maxlen=max_length, padding='post')\n",
    "X_val = pad_sequences(X_val_seq, maxlen=max_length, padding='post')\n",
    "X_test = pad_sequences(X_test_seq, maxlen=max_length, padding='post')\n",
    "\n",
    "# Encode labels\n",
    "encoder = LabelEncoder()\n",
    "y_train = to_categorical(encoder.fit_transform(y_train))\n",
    "y_val = to_categorical(encoder.transform(y_val))\n",
    "y_test = to_categorical(encoder.transform(y_test))\n"
   ]
  },
  {
   "cell_type": "code",
   "execution_count": null,
   "id": "0686116b",
   "metadata": {},
   "outputs": [],
   "source": [
    "print(\"X_train shape:\", X_train.shape)\n",
    "print(\"y_train shape:\", y_train.shape)\n"
   ]
  },
  {
   "cell_type": "code",
   "execution_count": null,
   "id": "7c1044e7",
   "metadata": {},
   "outputs": [],
   "source": [
    "tokenizer.word_index"
   ]
  },
  {
   "cell_type": "code",
   "execution_count": null,
   "id": "5e469090",
   "metadata": {},
   "outputs": [],
   "source": [
    "embedding_index = {}\n",
    "with open(\"glove.6B.100d.txt\", encoding='utf8') as f:\n",
    "    for line in f:\n",
    "        values = line.split()\n",
    "        word = values[0]\n",
    "        coefs = np.asarray(values[1:], dtype='float32')\n",
    "        embedding_index[word] = coefs\n",
    "        \n",
    "embedding_dim = 100 \n",
    "word_index = tokenizer.word_index\n",
    "embedding_matrix = np.zeros((len(word_index) + 1, embedding_dim))\n",
    "\n",
    "for word, i in word_index.items():\n",
    "    if word in embedding_index:\n",
    "        embedding_matrix[i] = embedding_index[word]"
   ]
  },
  {
   "cell_type": "code",
   "execution_count": null,
   "id": "e00403c1",
   "metadata": {},
   "outputs": [],
   "source": [
    "from tensorflow.keras.models import Sequential\n",
    "from tensorflow.keras.layers import Embedding, LSTM, Dense, Dropout, Input"
   ]
  },
  {
   "cell_type": "code",
   "execution_count": null,
   "id": "a0f672d3",
   "metadata": {},
   "outputs": [],
   "source": [
    "model = Sequential()\n",
    "model.add(Input(shape=(max_length,)))  # Not max_length - 1\n",
    "\n",
    "model.add(Embedding(input_dim=len(word_index) + 1, \n",
    "                    output_dim=embedding_dim, \n",
    "                    weights=[embedding_matrix], \n",
    "                    input_length=max_length,\n",
    "                    trainable=False))\n",
    "\n",
    "model.add(LSTM(128, return_sequences=True))\n",
    "model.add(Dropout(0.5))\n",
    "model.add(LSTM(64))\n",
    "model.add(Dense(64, activation='relu'))\n",
    "model.add(Dropout(0.3))\n",
    "model.add(Dense(y_train.shape[1], activation='softmax'))  # ✅ fixed this line\n"
   ]
  },
  {
   "cell_type": "code",
   "execution_count": null,
   "id": "bbf45e52",
   "metadata": {},
   "outputs": [],
   "source": [
    "model.compile(loss='categorical_crossentropy', optimizer='adam', metrics=['accuracy'])\n",
    "model.summary()"
   ]
  },
  {
   "cell_type": "code",
   "execution_count": null,
   "id": "41e6bee7",
   "metadata": {},
   "outputs": [],
   "source": [
    "model.fit(X_train, y_train, validation_data=(X_val, y_val), epochs=20, batch_size=32)"
   ]
  },
  {
   "cell_type": "code",
   "execution_count": null,
   "id": "79472f8e",
   "metadata": {},
   "outputs": [],
   "source": [
    "model.fit(X_train, y_train, validation_data=(X_val, y_val),\n",
    "          epochs=10, batch_size=32)\n"
   ]
  },
  {
   "cell_type": "code",
   "execution_count": null,
   "id": "da9d54c7",
   "metadata": {},
   "outputs": [],
   "source": [
    "loss, accuracy = model.evaluate(X_test, y_test)\n",
    "print(f\"Test Accuracy: {accuracy:.2f}\")\n"
   ]
  },
  {
   "cell_type": "code",
   "execution_count": null,
   "id": "8f0c6489",
   "metadata": {},
   "outputs": [],
   "source": []
  },
  {
   "cell_type": "code",
   "execution_count": null,
   "id": "1faadc5e",
   "metadata": {},
   "outputs": [],
   "source": []
  }
 ],
 "metadata": {
  "language_info": {
   "name": "python"
  }
 },
 "nbformat": 4,
 "nbformat_minor": 5
}
